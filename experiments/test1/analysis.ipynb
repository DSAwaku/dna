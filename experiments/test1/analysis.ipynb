{
 "cells": [
  {
   "cell_type": "code",
   "execution_count": 2,
   "metadata": {},
   "outputs": [],
   "source": [
    "import os\n",
    "import sys\n",
    "import torch\n",
    "import torch.nn as nn"
   ]
  },
  {
   "cell_type": "code",
   "execution_count": 11,
   "metadata": {},
   "outputs": [],
   "source": [
    "# analysis parameters\n",
    "\n",
    "dir = \"/notebooks/learningFile/dna/analysis/test1\"\n",
    "idx = 0\n",
    "embedding_output = torch.load(os.path.join(dir, f\"embedding_output_{idx}.pt\"))\n",
    "embedding_output = embedding_output.cpu().detach().numpy()\n",
    "\n",
    "rotary_pos_emb = torch.load(os.path.join(dir, f\"rotary_pos_emb_{idx}.pt\"))\n",
    "rotary_pos_emb = rotary_pos_emb.cpu().detach().numpy()"
   ]
  },
  {
   "cell_type": "code",
   "execution_count": 16,
   "metadata": {},
   "outputs": [
    {
     "data": {
      "text/plain": [
       "array([[-0.37695312,  1.        ],\n",
       "       [-0.35546875, 15.        ],\n",
       "       [-0.33007812,  1.        ],\n",
       "       ...,\n",
       "       [ 0.20214844,  1.        ],\n",
       "       [ 0.20898438,  1.        ],\n",
       "       [ 0.21875   ,  1.        ]], shape=(1872, 2))"
      ]
     },
     "execution_count": 16,
     "metadata": {},
     "output_type": "execute_result"
    }
   ],
   "source": [
    "# count the number of each values in the embedding_output\n",
    "import numpy as np\n",
    "\n",
    "unique, counts = np.unique(embedding_output[0], return_counts=True)\n",
    "np.asarray((unique, counts)).T"
   ]
  },
  {
   "cell_type": "code",
   "execution_count": 18,
   "metadata": {},
   "outputs": [
    {
     "data": {
      "text/plain": [
       "array([[-0.10791016, -0.15332031, -0.03442383, ..., -0.06054688,\n",
       "         0.03442383,  0.0402832 ],\n",
       "       [-0.01806641,  0.00027275, -0.03320312, ..., -0.00717163,\n",
       "        -0.0234375 , -0.01141357],\n",
       "       [-0.0201416 ,  0.00068665,  0.01074219, ..., -0.00708008,\n",
       "        -0.00964355, -0.00860596],\n",
       "       ...,\n",
       "       [-0.01300049,  0.02709961, -0.03540039, ..., -0.00897217,\n",
       "        -0.00386047,  0.00074768],\n",
       "       [ 0.02197266, -0.00070953,  0.01708984, ..., -0.00689697,\n",
       "        -0.01153564, -0.02307129],\n",
       "       [ 0.00891113, -0.06591797, -0.05737305, ..., -0.04345703,\n",
       "         0.1171875 ,  0.03076172]], shape=(72, 1024), dtype=float32)"
      ]
     },
     "execution_count": 18,
     "metadata": {},
     "output_type": "execute_result"
    }
   ],
   "source": [
    "embedding_output[0]"
   ]
  },
  {
   "cell_type": "code",
   "execution_count": 20,
   "metadata": {},
   "outputs": [
    {
     "data": {
      "text/plain": [
       "array([[[1.0000000e+00, 7.4989420e-01, 5.6234133e-01, 4.2169651e-01,\n",
       "         3.1622776e-01, 2.3713736e-01, 1.7782794e-01, 1.3335215e-01,\n",
       "         1.0000000e-01, 7.4989416e-02, 5.6234129e-02, 4.2169653e-02,\n",
       "         3.1622779e-02, 2.3713736e-02, 1.7782794e-02, 1.3335215e-02,\n",
       "         9.9999998e-03, 7.4989423e-03, 5.6234132e-03, 4.2169648e-03,\n",
       "         3.1622779e-03, 2.3713738e-03, 1.7782794e-03, 1.3335214e-03,\n",
       "         1.0000000e-03, 7.4989424e-04, 5.6234130e-04, 4.2169649e-04,\n",
       "         3.1622779e-04, 2.3713738e-04, 1.7782794e-04, 1.3335215e-04,\n",
       "         1.0000000e+00, 7.4989420e-01, 5.6234133e-01, 4.2169651e-01,\n",
       "         3.1622776e-01, 2.3713736e-01, 1.7782794e-01, 1.3335215e-01,\n",
       "         1.0000000e-01, 7.4989416e-02, 5.6234129e-02, 4.2169653e-02,\n",
       "         3.1622779e-02, 2.3713736e-02, 1.7782794e-02, 1.3335215e-02,\n",
       "         9.9999998e-03, 7.4989423e-03, 5.6234132e-03, 4.2169648e-03,\n",
       "         3.1622779e-03, 2.3713738e-03, 1.7782794e-03, 1.3335214e-03,\n",
       "         1.0000000e-03, 7.4989424e-04, 5.6234130e-04, 4.2169649e-04,\n",
       "         3.1622779e-04, 2.3713738e-04, 1.7782794e-04, 1.3335215e-04]]],\n",
       "      dtype=float32)"
      ]
     },
     "execution_count": 20,
     "metadata": {},
     "output_type": "execute_result"
    }
   ],
   "source": [
    "rotary_pos_emb[1]"
   ]
  },
  {
   "cell_type": "code",
   "execution_count": null,
   "metadata": {},
   "outputs": [],
   "source": []
  }
 ],
 "metadata": {
  "kernelspec": {
   "display_name": "DNA_venv",
   "language": "python",
   "name": "dna_venv"
  },
  "language_info": {
   "codemirror_mode": {
    "name": "ipython",
    "version": 3
   },
   "file_extension": ".py",
   "mimetype": "text/x-python",
   "name": "python",
   "nbconvert_exporter": "python",
   "pygments_lexer": "ipython3",
   "version": "3.10.12"
  }
 },
 "nbformat": 4,
 "nbformat_minor": 2
}
